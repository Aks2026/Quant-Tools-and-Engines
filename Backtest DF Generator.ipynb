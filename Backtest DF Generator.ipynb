{
 "cells": [
  {
   "cell_type": "code",
   "execution_count": 27,
   "metadata": {},
   "outputs": [],
   "source": [
    "import pandas as pd\n",
    "from dateutil.relativedelta import relativedelta\n",
    "import numpy as np\n",
    "import warnings\n",
    "warnings.filterwarnings(\"ignore\")\n",
    "import math\n",
    "pd.set_option('display.max_rows', 50)\n",
    "from datetime import date, timedelta\n",
    "import time\n",
    "from tqdm import tqdm\n",
    "\n",
    "from datetime import datetime\n",
    "import pyodbc\n",
    "import matplotlib\n",
    "from matplotlib.pyplot import figure\n",
    "# from data import Data\n",
    "import matplotlib.pyplot as plt\n",
    "# d = Data()\n",
    "import functools as ft\n",
    "# from fetchdata import *\n",
    "from rebalancedate import *\n",
    "# from liquidity import *\n",
    "from execution import *\n",
    "from OutputExcel import *"
   ]
  },
  {
   "cell_type": "code",
   "execution_count": 28,
   "metadata": {},
   "outputs": [],
   "source": [
    "# Specify the file path\n",
    "file_path = r'C:\\Users\\AKSHAT\\Desktop\\Data\\price_data.csv'\n",
    "# Specify the columns you want to use\n",
    "columns_to_use = ['Date','High','Low', 'Symbol','Close', 'Mcap',]\n",
    "# Read the CSV file with specific columns\n",
    "data = pd.read_csv(file_path, usecols=columns_to_use)\n",
    "# Display the first few rows of the dataframe\n",
    "data=data[data['Date']>='2006']\n",
    "data.drop_duplicates(['Date','Symbol'],inplace=True)\n",
    "data['Date'] = pd.to_datetime(data['Date'])"
   ]
  },
  {
   "cell_type": "code",
   "execution_count": 29,
   "metadata": {
    "scrolled": true
   },
   "outputs": [],
   "source": [
    "#Rebalance Day Function\n",
    "rebalanceFrequency=2\n",
    "op=rebalancedates(data,'2007-08-07',15,rebalanceFrequency)\n",
    "rebalanceDay=op[1]"
   ]
  },
  {
   "cell_type": "code",
   "execution_count": 31,
   "metadata": {},
   "outputs": [],
   "source": [
    "#Your Data Frame Here\n",
    "#Your Data Frame Should Have 'Weight' column in Percentage\n",
    "portfliosize=25\n",
    "df= pd.read_table('vol_factor_NH-20%L.csv', sep=',')\n",
    "df['Date'] = pd.to_datetime(df['Date'])\n",
    "df=df[df['Date'].isin(rebalanceDay)]\n",
    "df=df.groupby('Date').apply(lambda x:x.sort_values('Rank_HL',ascending=True).head(portfliosize)).reset_index(drop=True)\n",
    "df['Weight']=100/portfliosize"
   ]
  },
  {
   "cell_type": "code",
   "execution_count": 32,
   "metadata": {},
   "outputs": [
    {
     "data": {
      "text/html": [
       "<div>\n",
       "<style scoped>\n",
       "    .dataframe tbody tr th:only-of-type {\n",
       "        vertical-align: middle;\n",
       "    }\n",
       "\n",
       "    .dataframe tbody tr th {\n",
       "        vertical-align: top;\n",
       "    }\n",
       "\n",
       "    .dataframe thead th {\n",
       "        text-align: right;\n",
       "    }\n",
       "</style>\n",
       "<table border=\"1\" class=\"dataframe\">\n",
       "  <thead>\n",
       "    <tr style=\"text-align: right;\">\n",
       "      <th></th>\n",
       "      <th>Date</th>\n",
       "      <th>Symbol</th>\n",
       "      <th>Rank_HL</th>\n",
       "      <th>Weight</th>\n",
       "    </tr>\n",
       "  </thead>\n",
       "  <tbody>\n",
       "    <tr>\n",
       "      <th>0</th>\n",
       "      <td>2007-08-20</td>\n",
       "      <td>DIVISLAB</td>\n",
       "      <td>1</td>\n",
       "      <td>4.0</td>\n",
       "    </tr>\n",
       "    <tr>\n",
       "      <th>1</th>\n",
       "      <td>2007-08-20</td>\n",
       "      <td>JISLJALEQS</td>\n",
       "      <td>1</td>\n",
       "      <td>4.0</td>\n",
       "    </tr>\n",
       "    <tr>\n",
       "      <th>2</th>\n",
       "      <td>2007-08-20</td>\n",
       "      <td>JSWSTEEL</td>\n",
       "      <td>3</td>\n",
       "      <td>4.0</td>\n",
       "    </tr>\n",
       "    <tr>\n",
       "      <th>3</th>\n",
       "      <td>2007-08-20</td>\n",
       "      <td>LT</td>\n",
       "      <td>4</td>\n",
       "      <td>4.0</td>\n",
       "    </tr>\n",
       "    <tr>\n",
       "      <th>4</th>\n",
       "      <td>2007-08-20</td>\n",
       "      <td>KOTAKBANK</td>\n",
       "      <td>5</td>\n",
       "      <td>4.0</td>\n",
       "    </tr>\n",
       "    <tr>\n",
       "      <th>...</th>\n",
       "      <td>...</td>\n",
       "      <td>...</td>\n",
       "      <td>...</td>\n",
       "      <td>...</td>\n",
       "    </tr>\n",
       "    <tr>\n",
       "      <th>2495</th>\n",
       "      <td>2024-02-20</td>\n",
       "      <td>ASIANENE</td>\n",
       "      <td>19</td>\n",
       "      <td>4.0</td>\n",
       "    </tr>\n",
       "    <tr>\n",
       "      <th>2496</th>\n",
       "      <td>2024-02-20</td>\n",
       "      <td>BRIGADE</td>\n",
       "      <td>19</td>\n",
       "      <td>4.0</td>\n",
       "    </tr>\n",
       "    <tr>\n",
       "      <th>2497</th>\n",
       "      <td>2024-02-20</td>\n",
       "      <td>DYNAMATECH</td>\n",
       "      <td>19</td>\n",
       "      <td>4.0</td>\n",
       "    </tr>\n",
       "    <tr>\n",
       "      <th>2498</th>\n",
       "      <td>2024-02-20</td>\n",
       "      <td>COLPAL</td>\n",
       "      <td>24</td>\n",
       "      <td>4.0</td>\n",
       "    </tr>\n",
       "    <tr>\n",
       "      <th>2499</th>\n",
       "      <td>2024-02-20</td>\n",
       "      <td>COFORGE</td>\n",
       "      <td>25</td>\n",
       "      <td>4.0</td>\n",
       "    </tr>\n",
       "  </tbody>\n",
       "</table>\n",
       "<p>2500 rows × 4 columns</p>\n",
       "</div>"
      ],
      "text/plain": [
       "           Date      Symbol  Rank_HL  Weight\n",
       "0    2007-08-20    DIVISLAB        1     4.0\n",
       "1    2007-08-20  JISLJALEQS        1     4.0\n",
       "2    2007-08-20    JSWSTEEL        3     4.0\n",
       "3    2007-08-20          LT        4     4.0\n",
       "4    2007-08-20   KOTAKBANK        5     4.0\n",
       "...         ...         ...      ...     ...\n",
       "2495 2024-02-20    ASIANENE       19     4.0\n",
       "2496 2024-02-20     BRIGADE       19     4.0\n",
       "2497 2024-02-20  DYNAMATECH       19     4.0\n",
       "2498 2024-02-20      COLPAL       24     4.0\n",
       "2499 2024-02-20     COFORGE       25     4.0\n",
       "\n",
       "[2500 rows x 4 columns]"
      ]
     },
     "execution_count": 32,
     "metadata": {},
     "output_type": "execute_result"
    }
   ],
   "source": [
    "df"
   ]
  },
  {
   "cell_type": "code",
   "execution_count": 33,
   "metadata": {},
   "outputs": [],
   "source": [
    "df.to_excel('Vol_test_NH_20%_Weight.xlsx', index=False)"
   ]
  },
  {
   "cell_type": "code",
   "execution_count": null,
   "metadata": {},
   "outputs": [],
   "source": []
  }
 ],
 "metadata": {
  "kernelspec": {
   "display_name": "Python 3 (ipykernel)",
   "language": "python",
   "name": "python3"
  },
  "language_info": {
   "codemirror_mode": {
    "name": "ipython",
    "version": 3
   },
   "file_extension": ".py",
   "mimetype": "text/x-python",
   "name": "python",
   "nbconvert_exporter": "python",
   "pygments_lexer": "ipython3",
   "version": "3.9.7"
  },
  "vscode": {
   "interpreter": {
    "hash": "369f2c481f4da34e4445cda3fffd2e751bd1c4d706f27375911949ba6bb62e1c"
   }
  }
 },
 "nbformat": 4,
 "nbformat_minor": 2
}
